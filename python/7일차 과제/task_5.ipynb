{
 "cells": [
  {
   "cell_type": "markdown",
   "metadata": {},
   "source": [
    "datetime 모듈을 사용하여 현재 날짜와 시간을 출력하는 프로그램을 작성하세요. \n",
    "\n",
    "또한, 사용자로부터 태어난 년도를 입력받아 현재 나이를 계산하여 출력하세요."
   ]
  },
  {
   "cell_type": "code",
   "execution_count": 1,
   "metadata": {},
   "outputs": [
    {
     "name": "stdout",
     "output_type": "stream",
     "text": [
      "현재 날짜와 시간: 2024-08-09 13:54:30.637506\n",
      "현재 나이: 29세\n"
     ]
    }
   ],
   "source": [
    "import datetime\n",
    "\n",
    "def display_current_datetime():\n",
    "\n",
    "    current_datetime = datetime.datetime.now()\n",
    "    print(f\"현재 날짜와 시간: {current_datetime}\")\n",
    "\n",
    "def calculate_age():\n",
    "    try:\n",
    "\n",
    "        birth_year = int(input(\"태어난 년도를 입력하세요: \"))\n",
    "        \n",
    "        current_year = datetime.datetime.now().year\n",
    "        age = current_year - birth_year\n",
    "        \n",
    "\n",
    "        print(f\"현재 나이: {age}세\")\n",
    "    \n",
    "    except ValueError:\n",
    "\n",
    "        print(\"잘못된 입력입니다. 년도를 숫자로 입력해주세요.\")\n",
    "\n",
    "# 함수 호출\n",
    "display_current_datetime()\n",
    "calculate_age()"
   ]
  }
 ],
 "metadata": {
  "kernelspec": {
   "display_name": "Python 3",
   "language": "python",
   "name": "python3"
  },
  "language_info": {
   "codemirror_mode": {
    "name": "ipython",
    "version": 3
   },
   "file_extension": ".py",
   "mimetype": "text/x-python",
   "name": "python",
   "nbconvert_exporter": "python",
   "pygments_lexer": "ipython3",
   "version": "3.12.4"
  }
 },
 "nbformat": 4,
 "nbformat_minor": 2
}
