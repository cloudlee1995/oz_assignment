{
 "cells": [
  {
   "cell_type": "markdown",
   "metadata": {},
   "source": [
    "사용자 정의 예외 NegativeNumberError를 생성하고, 사용자로부터 숫자를 입력받아 음수일 경우 NegativeNumberError를 발생시키는 프로그램을 작성하세요. \n",
    "\n",
    "- 예외 처리 구문을 사용하여 음수 입력 시 \"양수를 입력해주세요.\"라는 메시지를 출력"
   ]
  },
  {
   "cell_type": "code",
   "execution_count": 1,
   "metadata": {},
   "outputs": [
    {
     "name": "stdout",
     "output_type": "stream",
     "text": [
      "입력된 숫자: 33.0\n"
     ]
    }
   ],
   "source": [
    "class NegativeNumberError(Exception):\n",
    "    def __init__(self, message=\"양수를 입력해주세요.\"):\n",
    "        self.message = message\n",
    "        super().__init__(self.message)\n",
    "\n",
    "def get_positive_number():\n",
    "    try:\n",
    "\n",
    "        number = float(input(\"숫자를 입력하세요: \"))\n",
    "        \n",
    "\n",
    "        if number < 0:\n",
    "            raise NegativeNumberError\n",
    "        \n",
    "        print(f\"입력된 숫자: {number}\")\n",
    "    \n",
    "    except NegativeNumberError as e:\n",
    "\n",
    "        print(e)\n",
    "    \n",
    "    except ValueError:\n",
    "\n",
    "        print(\"잘못된 입력입니다. 숫자를 입력해주세요.\")\n",
    "\n",
    "get_positive_number()"
   ]
  }
 ],
 "metadata": {
  "kernelspec": {
   "display_name": "Python 3",
   "language": "python",
   "name": "python3"
  },
  "language_info": {
   "codemirror_mode": {
    "name": "ipython",
    "version": 3
   },
   "file_extension": ".py",
   "mimetype": "text/x-python",
   "name": "python",
   "nbconvert_exporter": "python",
   "pygments_lexer": "ipython3",
   "version": "3.12.4"
  }
 },
 "nbformat": 4,
 "nbformat_minor": 2
}
